{
  "nbformat": 4,
  "nbformat_minor": 0,
  "metadata": {
    "colab": {
      "provenance": [],
      "include_colab_link": true
    },
    "kernelspec": {
      "name": "python3",
      "display_name": "Python 3"
    },
    "language_info": {
      "name": "python"
    }
  },
  "cells": [
    {
      "cell_type": "markdown",
      "metadata": {
        "id": "view-in-github",
        "colab_type": "text"
      },
      "source": [
        "<a href=\"https://colab.research.google.com/github/yunnsss/Fog_Forecast/blob/main/EDA_2.ipynb\" target=\"_parent\"><img src=\"https://colab.research.google.com/assets/colab-badge.svg\" alt=\"Open In Colab\"/></a>"
      ]
    },
    {
      "cell_type": "code",
      "source": [
        "from google.colab import drive\n",
        "drive.mount('/content/drive')"
      ],
      "metadata": {
        "colab": {
          "base_uri": "https://localhost:8080/"
        },
        "id": "Van2inih4FCA",
        "outputId": "09a0af8a-32e3-43a6-d74a-ab3542d78ba6"
      },
      "execution_count": null,
      "outputs": [
        {
          "output_type": "stream",
          "name": "stdout",
          "text": [
            "Mounted at /content/drive\n"
          ]
        }
      ]
    },
    {
      "cell_type": "code",
      "source": [
        "import numpy as np\n",
        "import pandas as pd\n",
        "import matplotlib.pyplot as plt\n",
        "import seaborn as sns\n",
        "from sklearn.preprocessing import MinMaxScaler"
      ],
      "metadata": {
        "id": "I25LvOts4I2p"
      },
      "execution_count": null,
      "outputs": []
    },
    {
      "cell_type": "code",
      "source": [
        "train = pd.read_csv('/content/drive/MyDrive/날씨마루 공모전/train_tt.csv')\n",
        "test = pd.read_csv('/content/drive/MyDrive/날씨마루 공모전/test_tt.csv')"
      ],
      "metadata": {
        "id": "ndHtoi-w4L-x"
      },
      "execution_count": null,
      "outputs": []
    },
    {
      "cell_type": "code",
      "source": [
        "# # 열 이름에서 'fog_train.'을 제거하고 뒤에 문자열로 열 이름 지정\n",
        "# train.columns = train.columns.str.replace('fog_train.', '')\n",
        "# test.columns =test.columns.str.replace('fog_test.', '')"
      ],
      "metadata": {
        "id": "rmi-F3ogE-Pc"
      },
      "execution_count": null,
      "outputs": []
    },
    {
      "cell_type": "markdown",
      "source": [
        "## datetime 만들기"
      ],
      "metadata": {
        "id": "wcKA2zPlz4or"
      }
    },
    {
      "cell_type": "code",
      "source": [
        "# 'time' 열의 이름을 'hour'로 변경\n",
        "# year 값을 2020, 2021, 2022로 변경\n",
        "train['year'] = train['year'].replace({'I': 2020, 'J': 2021, 'K': 2022})\n",
        "test['year'] = test['year'].replace({'L': 2023})\n",
        "\n",
        "train = train.rename(columns={'time': 'hour'})\n",
        "test = test.rename(columns={'time': 'hour'})\n",
        "\n",
        "# 'year', 'month', 'day', 'hour', 'minute' 열을 결합하여 datetime 형식으로 변환\n",
        "train['datetime'] = pd.to_datetime(train[['year', 'month', 'day', 'hour', 'minute']])\n",
        "test['datetime'] = pd.to_datetime(test[['year', 'month', 'day', 'hour', 'minute']])"
      ],
      "metadata": {
        "id": "xojrFM4iEcdT"
      },
      "execution_count": null,
      "outputs": []
    },
    {
      "cell_type": "markdown",
      "source": [
        "# 결측치 처리: 삭제"
      ],
      "metadata": {
        "id": "LtKpdZRFI6as"
      }
    },
    {
      "cell_type": "code",
      "source": [
        "# -90 이하의 값을 NaN으로 변경\n",
        "\n",
        "#train\n",
        "cols_to_check = ['ws10_deg', 'ws10_ms', 'ta', 're', 'hm', 'sun10', 'ts', 'class']\n",
        "train[cols_to_check] = train[cols_to_check].mask(train[cols_to_check] <= -90)\n",
        "\n",
        "#test\n",
        "test_cols_to_check = ['ws10_deg', 'ws10_ms', 'ta', 're', 'hm', 'sun10', 'ts']\n",
        "test[cols_to_check] = test[cols_to_check].mask(test[test_cols_to_check] <= -90)"
      ],
      "metadata": {
        "id": "rJWpRXe-MSI0"
      },
      "execution_count": null,
      "outputs": []
    },
    {
      "cell_type": "code",
      "source": [
        "# 결측치가 있는 행 제거하여 원래 데이터셋에 반영\n",
        "train = train.dropna(subset=cols_to_check)\n",
        "test = test.dropna(subset=test_cols_to_check)"
      ],
      "metadata": {
        "id": "aHDdtzTCMWmv"
      },
      "execution_count": null,
      "outputs": []
    },
    {
      "cell_type": "code",
      "source": [
        "# vis1이 음수인 값은 class를 1로 치환\n",
        "train['vis1'] = np.clip(train['vis1'], 1, 2000)"
      ],
      "metadata": {
        "id": "wUzPYZn3Bpis"
      },
      "execution_count": null,
      "outputs": []
    },
    {
      "cell_type": "markdown",
      "source": [
        "# 이상치 처리: 평균값 대체"
      ],
      "metadata": {
        "id": "mZKH-y-fI-LL"
      }
    },
    {
      "cell_type": "code",
      "source": [
        "# 이상치를 찾을 특정 열들\n",
        "cols_to_check = ['ws10_deg', 'ws10_ms', 'ta', 're', 'hm', 'sun10', 'ts']"
      ],
      "metadata": {
        "id": "8v6wpTpiFKQV"
      },
      "execution_count": null,
      "outputs": []
    },
    {
      "cell_type": "code",
      "source": [
        "# 이상치를 평균값으로 대체하는 함수 정의\n",
        " def replace_outliers_with_mean(df, columns):\n",
        "     for col in columns:\n",
        "         Q1 = df[col].quantile(0.25)\n",
        "         Q3 = df[col].quantile(0.75)\n",
        "         IQR = Q3 - Q1\n",
        "         lower_bound = Q1 - 1.5 * IQR\n",
        "         upper_bound = Q3 + 1.5 * IQR\n",
        "\n",
        "        # 이상치를 평균값으로 대체\n",
        "         df[col] = np.where((df[col] < lower_bound) | (df[col] > upper_bound), df[col].mean(), df[col])"
      ],
      "metadata": {
        "id": "lkXSYD6ND8A9"
      },
      "execution_count": null,
      "outputs": []
    },
    {
      "cell_type": "code",
      "source": [
        "# 이상치를 평균값으로 대체하는 함수 호출\n",
        "replace_outliers_with_mean(train, cols_to_check)"
      ],
      "metadata": {
        "id": "lDSzjRliNrz9"
      },
      "execution_count": null,
      "outputs": []
    },
    {
      "cell_type": "code",
      "source": [
        "# 이상치를 찾을 특정 열들\n",
        "cols_to_check = ['ws10_deg', 'ws10_ms', 'ta', 're', 'hm', 'sun10', 'ts']\n",
        "\n",
        "# 이상치를 평균값으로 대체하는 함수 호출\n",
        "replace_outliers_with_mean(test, cols_to_check)"
      ],
      "metadata": {
        "id": "GSnp8OJnNzXM"
      },
      "execution_count": null,
      "outputs": []
    },
    {
      "cell_type": "markdown",
      "source": [
        "### 파생 변수 생성"
      ],
      "metadata": {
        "id": "X1P4uO-2uobe"
      }
    },
    {
      "cell_type": "code",
      "source": [
        "# Magnus-Tetens 공식을 이용하여 노점온도(tb) 계산\n",
        "a = 17.27\n",
        "b = 237.7\n",
        "tb = (b * np.log(train['hm']/100) + (a * train['ta']) / (b + train['ta'])) / (a - np.log(train['hm']/100))\n",
        "\n",
        "# 기온(ta)과 노점온도(tb) 간의 차이 계산\n",
        "train['ta_tb_diff'] = abs(train['ta'] - tb)"
      ],
      "metadata": {
        "colab": {
          "base_uri": "https://localhost:8080/"
        },
        "id": "mqPaO8FUuo-n",
        "outputId": "42ed3524-853a-46d9-fbfb-33c0c4c7a7d8"
      },
      "execution_count": null,
      "outputs": [
        {
          "output_type": "stream",
          "name": "stderr",
          "text": [
            "/usr/local/lib/python3.10/dist-packages/pandas/core/arraylike.py:396: RuntimeWarning: divide by zero encountered in log\n",
            "  result = getattr(ufunc, method)(*inputs, **kwargs)\n"
          ]
        }
      ]
    },
    {
      "cell_type": "code",
      "source": [
        "# Magnus-Tetens 공식을 이용하여 노점온도(tb) 계산\n",
        "a = 17.27\n",
        "b = 237.7\n",
        "tb = (b * np.log(test['hm']/100) + (a * test['ta']) / (b + test['ta'])) / (a - np.log(test['hm']/100))\n",
        "\n",
        "# 기온(ta)과 노점온도(tb) 간의 차이 계산\n",
        "test['ta_tb_diff'] = abs(test['ta'] - tb)"
      ],
      "metadata": {
        "colab": {
          "base_uri": "https://localhost:8080/"
        },
        "id": "b3a7xoDa520K",
        "outputId": "ae62db80-e2f7-4e3e-f16e-fc27acbdf5a2"
      },
      "execution_count": null,
      "outputs": [
        {
          "output_type": "stream",
          "name": "stderr",
          "text": [
            "/usr/local/lib/python3.10/dist-packages/pandas/core/arraylike.py:396: RuntimeWarning: divide by zero encountered in log\n",
            "  result = getattr(ufunc, method)(*inputs, **kwargs)\n"
          ]
        }
      ]
    },
    {
      "cell_type": "code",
      "source": [
        "# 계절성과 고려\n",
        "def add_seasonal_features(df):\n",
        "    #df['month'] = df['datetime'].dt.month\n",
        "    df['sin_month'] = np.sin(2 * np.pi * df['month'] / 12)\n",
        "    df['cos_month'] = np.cos(2 * np.pi * df['month'] / 12)\n",
        "    return df\n",
        "\n",
        "train = add_seasonal_features(train)\n",
        "test = add_seasonal_features(test)"
      ],
      "metadata": {
        "id": "p2mnB_ZJuu3M"
      },
      "execution_count": null,
      "outputs": []
    },
    {
      "cell_type": "code",
      "source": [
        "# train 데이터프레임에서 'st' 변수 삭제\n",
        "train = train.drop('st', axis=1)\n",
        "test = test.drop('st', axis=1)"
      ],
      "metadata": {
        "id": "UsCuurtI6JQ7"
      },
      "execution_count": null,
      "outputs": []
    },
    {
      "cell_type": "code",
      "source": [
        "#train\n",
        "# 'stn_id' 별 'ta', 'sun10', 'ts'의 평균 계산\n",
        "mean_values = train.groupby('stn_id')[['ta', 'sun10', 'ts']].mean()\n",
        "\n",
        "# 각 'stn_id'에 맞게 'st' 값 계산\n",
        "mean_values['st'] = mean_values.sum(axis=1)\n",
        "\n",
        "# 'st' 값을 원래 데이터프레임에 추가\n",
        "train = train.merge(mean_values[['st']], on='stn_id', how='left')"
      ],
      "metadata": {
        "id": "nUGZVAuTuu3N"
      },
      "execution_count": null,
      "outputs": []
    },
    {
      "cell_type": "code",
      "source": [
        "# 'stn_id' 별 'ta', 'sun10', 'ts'의 평균 계산\n",
        "mean_values = test.groupby('stn_id')[['ta', 'sun10', 'ts']].mean()\n",
        "\n",
        "# 각 'stn_id'에 맞게 'st' 값 계산\n",
        "mean_values['st'] = mean_values.sum(axis=1)\n",
        "\n",
        "# 'st' 값을 원래 데이터프레임에 추가\n",
        "test = test.merge(mean_values[['st']], on='stn_id', how='left')"
      ],
      "metadata": {
        "id": "SSwqkCUruu3N"
      },
      "execution_count": null,
      "outputs": []
    },
    {
      "cell_type": "code",
      "source": [
        "## 풍속(풍향cos)\n",
        "#풍향을 라디안 단위로 변환\n",
        "ws10_deg_rad = np.deg2rad(train.ws10_deg)\n",
        "\n",
        "#코사인 변수 생성\n",
        "ws10_cos = np.cos(ws10_deg_rad)\n",
        "\n",
        "# 풍속*풍향cos\n",
        "ws10_new = train.ws10_ms*ws10_cos\n",
        "\n",
        "# 'ws10_cos' 값을 원래 데이터프레임에 추가\n",
        "train['ws10_new'] = ws10_new"
      ],
      "metadata": {
        "id": "IpRIHgif6_yY"
      },
      "execution_count": null,
      "outputs": []
    },
    {
      "cell_type": "code",
      "source": [
        "## 풍속(풍향cos)\n",
        "#풍향을 라디안 단위로 변환\n",
        "ws10_deg_rad = np.deg2rad(test.ws10_deg)\n",
        "\n",
        "#코사인 변수 생성\n",
        "ws10_cos = np.cos(ws10_deg_rad)\n",
        "\n",
        "# 풍속*풍향cos\n",
        "ws10_new = test.ws10_ms*ws10_cos\n",
        "\n",
        "# 'ws10_cos' 값을 원래 데이터프레임에 추가\n",
        "test['ws10_new'] = ws10_new"
      ],
      "metadata": {
        "id": "E8zFI5QX8DCv"
      },
      "execution_count": null,
      "outputs": []
    },
    {
      "cell_type": "markdown",
      "source": [
        "# 정규화"
      ],
      "metadata": {
        "id": "qgTFhdE1PTk7"
      }
    },
    {
      "cell_type": "code",
      "source": [
        "#Min-Max 정규화 객체 생성\n",
        "scaler = MinMaxScaler()\n",
        "\n",
        "# 선택한 열들에 Min-Max 정규화 적용\n",
        "train[['ta_tb_diff', 'st']] = scaler.fit_transform(train[['ta_tb_diff', 'st']])"
      ],
      "metadata": {
        "id": "Q1Nuh2jI7E62"
      },
      "execution_count": null,
      "outputs": []
    },
    {
      "cell_type": "code",
      "source": [
        "#Min-Max 정규화 객체 생성\n",
        "scaler = MinMaxScaler()\n",
        "\n",
        "# 선택한 열들에 Min-Max 정규화 적용\n",
        "test[['ta_tb_diff', 'st']] = scaler.fit_transform(test[['ta_tb_diff', 'st']])"
      ],
      "metadata": {
        "id": "Ya8mYVAb80_Q"
      },
      "execution_count": null,
      "outputs": []
    },
    {
      "cell_type": "code",
      "source": [
        "# Min-Max 정규화를 적용할 열들 선택\n",
        "columns_to_normalize = [ 'ws10_deg', 'ws10_ms', 'ta', 'hm', 'sun10', 'ts']\n",
        "\n",
        "# Min-Max 정규화 객체 생성\n",
        "scaler = MinMaxScaler()\n",
        "\n",
        "# 선택한 열들에 Min-Max 정규화 적용\n",
        "train[columns_to_normalize] = scaler.fit_transform(train[columns_to_normalize])"
      ],
      "metadata": {
        "id": "cmOyfx5HO8EM"
      },
      "execution_count": null,
      "outputs": []
    },
    {
      "cell_type": "code",
      "source": [
        "# Min-Max 정규화를 적용할 열들 선택\n",
        "columns_to_normalize = ['ws10_deg', 'ws10_ms', 'ta', 'hm', 'sun10', 'ts']\n",
        "\n",
        "# Min-Max 정규화 객체 생성\n",
        "scaler = MinMaxScaler()\n",
        "\n",
        "# 선택한 열들에 Min-Max 정규화 적용\n",
        "test[columns_to_normalize] = scaler.fit_transform(test[columns_to_normalize])"
      ],
      "metadata": {
        "id": "BQtjhid_Pc5M"
      },
      "execution_count": null,
      "outputs": []
    }
  ]
}