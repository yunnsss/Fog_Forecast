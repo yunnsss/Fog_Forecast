{
  "nbformat": 4,
  "nbformat_minor": 0,
  "metadata": {
    "colab": {
      "provenance": [],
      "include_colab_link": true
    },
    "kernelspec": {
      "name": "python3",
      "display_name": "Python 3"
    },
    "language_info": {
      "name": "python"
    }
  },
  "cells": [
    {
      "cell_type": "markdown",
      "metadata": {
        "id": "view-in-github",
        "colab_type": "text"
      },
      "source": [
        "<a href=\"https://colab.research.google.com/github/yunnsss/Fog_Forecast/blob/main/ANN.ipynb\" target=\"_parent\"><img src=\"https://colab.research.google.com/assets/colab-badge.svg\" alt=\"Open In Colab\"/></a>"
      ]
    },
    {
      "cell_type": "code",
      "execution_count": null,
      "metadata": {
        "colab": {
          "base_uri": "https://localhost:8080/"
        },
        "id": "MsMl7eAHfI_j",
        "outputId": "26bd04b0-e707-48bc-820a-46fa3419ba3f"
      },
      "outputs": [
        {
          "output_type": "stream",
          "name": "stdout",
          "text": [
            "Mounted at /content/drive\n"
          ]
        }
      ],
      "source": [
        "from google.colab import drive\n",
        "drive.mount('/content/drive')"
      ]
    },
    {
      "cell_type": "code",
      "source": [
        "import numpy as np\n",
        "import matplotlib.pyplot as plt\n",
        "import pandas as pd\n",
        "from sklearn.preprocessing import LabelEncoder, OneHotEncoder\n",
        "from sklearn.model_selection import train_test_split\n",
        "from keras.utils import to_categorical\n",
        "\n",
        "import keras\n",
        "from keras.models import Sequential\n",
        "from keras.layers import Dense\n",
        "from keras.losses import SparseCategoricalCrossentropy\n",
        "\n",
        "from sklearn.metrics import confusion_matrix, accuracy_score, f1_score, mean_absolute_error\n",
        "import seaborn as sns\n",
        "\n",
        "import imblearn\n",
        "from imblearn.over_sampling import SMOTE\n",
        "\n",
        "from imblearn.under_sampling import RandomUnderSampler\n",
        "\n",
        "from tensorflow.keras.models import load_model\n",
        "import matplotlib.pyplot as plt"
      ],
      "metadata": {
        "id": "qhYij1vtfT0r"
      },
      "execution_count": null,
      "outputs": []
    },
    {
      "cell_type": "code",
      "source": [
        "# Load data\n",
        "train = pd.read_csv('/content/drive/MyDrive/날씨마루 공모전/train_FE.csv')\n",
        "test = pd.read_csv('/content/drive/MyDrive/날씨마루 공모전/test_FE.csv')"
      ],
      "metadata": {
        "id": "JCEjeg5ffc-i"
      },
      "execution_count": null,
      "outputs": []
    },
    {
      "cell_type": "code",
      "source": [
        "# 필요없는 열 제거\n",
        "train = train.drop(labels=['sin_week', 'cos_week',\n",
        "                                'sin_year', 'cos_year'\n",
        "                                ], axis = 1)\n",
        "\n",
        "test = test.drop(labels=['sin_week', 'cos_week',\n",
        "                                'sin_year', 'cos_year'\n",
        "                                ], axis = 1)"
      ],
      "metadata": {
        "id": "9j9xjDbLgR25"
      },
      "execution_count": null,
      "outputs": []
    },
    {
      "cell_type": "code",
      "source": [
        "train = train.fillna(0)\n",
        "test = test.fillna(0)\n",
        "\n",
        "train.isnull().sum()"
      ],
      "metadata": {
        "colab": {
          "base_uri": "https://localhost:8080/"
        },
        "id": "KppagvVm0432",
        "outputId": "96d4e606-ad5f-48cd-f8f9-5f8f5d1bf4cc"
      },
      "execution_count": null,
      "outputs": [
        {
          "output_type": "execute_result",
          "data": {
            "text/plain": [
              "year          0\n",
              "month         0\n",
              "day           0\n",
              "time          0\n",
              "minute        0\n",
              "stn_id        0\n",
              "ws10_deg      0\n",
              "ws10_ms       0\n",
              "ta            0\n",
              "re            0\n",
              "hm            0\n",
              "sun10         0\n",
              "ts            0\n",
              "vis1          0\n",
              "class         0\n",
              "datetime      0\n",
              "season        0\n",
              "sin_day       0\n",
              "cos_day       0\n",
              "ta_tb_diff    0\n",
              "sin_month     0\n",
              "cos_month     0\n",
              "st            0\n",
              "ws10_new      0\n",
              "dtype: int64"
            ]
          },
          "metadata": {},
          "execution_count": 20
        }
      ]
    },
    {
      "cell_type": "code",
      "source": [
        "test.isnull().sum()"
      ],
      "metadata": {
        "colab": {
          "base_uri": "https://localhost:8080/"
        },
        "id": "HAmyoDLR1R1y",
        "outputId": "f2c4a040-04ab-4f51-b70f-ca6ee414b91d"
      },
      "execution_count": null,
      "outputs": [
        {
          "output_type": "execute_result",
          "data": {
            "text/plain": [
              "year          0\n",
              "month         0\n",
              "day           0\n",
              "time          0\n",
              "minute        0\n",
              "stn_id        0\n",
              "ws10_deg      0\n",
              "ws10_ms       0\n",
              "ta            0\n",
              "re            0\n",
              "hm            0\n",
              "sun10         0\n",
              "ts            0\n",
              "class         0\n",
              "datetime      0\n",
              "season        0\n",
              "sin_day       0\n",
              "cos_day       0\n",
              "ta_tb_diff    0\n",
              "sin_month     0\n",
              "cos_month     0\n",
              "st            0\n",
              "ws10_new      0\n",
              "dtype: int64"
            ]
          },
          "metadata": {},
          "execution_count": 21
        }
      ]
    },
    {
      "cell_type": "code",
      "source": [
        "# stn_id의 첫 번째 글자 추출\n",
        "train['group'] = train['stn_id'].str[0]\n",
        "test['group'] = test['stn_id'].str[0]\n",
        "\n",
        "# 각 글자별로 데이터프레임 분리\n",
        "stn_A = train[train['group'] == 'A']\n",
        "stn_B = train[train['group'] == 'B']\n",
        "stn_C = train[train['group'] == 'C']\n",
        "stn_D = train[train['group'] == 'D']\n",
        "stn_E = train[train['group'] == 'E']\n",
        "\n",
        "# 테스트 데이터프레임 분리\n",
        "test_stn_A = test[test['group'] == 'A']\n",
        "test_stn_B = test[test['group'] == 'B']\n",
        "test_stn_C = test[test['group'] == 'C']\n",
        "test_stn_D = test[test['group'] == 'D']\n",
        "test_stn_E = test[test['group'] == 'E']"
      ],
      "metadata": {
        "id": "9BBiGJiVfhL9"
      },
      "execution_count": null,
      "outputs": []
    },
    {
      "cell_type": "code",
      "source": [
        "# Function to create and train the model for each stn_id\n",
        "def train_and_evaluate_stn(stn_data, stn_name):\n",
        "    X = stn_data.drop(labels=['year','month','day','time','minute', 'class', 'season', 'stn_id', 'group', 'datetime', 'vis1'], axis=1)\n",
        "    y = stn_data['class']\n",
        "\n",
        "    # Split the data into 80% training and 20% testing\n",
        "    X_train, X_test, y_train, y_test = train_test_split(X, y, test_size=0.2, random_state=11)\n",
        "\n",
        "    # SMOTE oversampling\n",
        "    smote = SMOTE()\n",
        "    X_train_resampled, y_train_resampled = smote.fit_resample(X_train, y_train)\n",
        "\n",
        "    # Initializing the ANN\n",
        "    classifier = Sequential()\n",
        "\n",
        "    # Adding the input layer and the first hidden layer\n",
        "    classifier.add(Dense(units=1024, kernel_initializer='uniform', activation='swish', input_dim=X_train.shape[1]))\n",
        "    classifier.add(Dense(units=512, kernel_initializer='uniform', activation='swish'))\n",
        "    classifier.add(Dense(units=256, kernel_initializer='uniform', activation='swish'))\n",
        "    classifier.add(Dense(units=128, kernel_initializer='uniform', activation='swish'))\n",
        "    classifier.add(Dense(units=64, kernel_initializer='uniform', activation='swish'))\n",
        "    classifier.add(Dense(units=16, kernel_initializer='uniform', activation='swish'))\n",
        "    # Adding the output layer\n",
        "    classifier.add(Dense(units=4, kernel_initializer='uniform', activation='softmax'))\n",
        "\n",
        "    # Compiling the ANN\n",
        "    classifier.compile(optimizer='adam', loss=SparseCategoricalCrossentropy(from_logits=False), metrics=['accuracy'])\n",
        "\n",
        "    # Fitting the ANN to the Training set\n",
        "    classifier.fit(X_train_resampled, y_train_resampled - 1, batch_size=20, epochs=2)  # Subtract 1 to make labels 0-3\n",
        "\n",
        "    # Predicting the Test set results\n",
        "    y_pred = classifier.predict(X_test)\n",
        "\n",
        "    # Converting predictions to class labels\n",
        "    y_pred_classes = y_pred.argmax(axis=-1) + 1  # Add 1 to convert labels back to 1-4\n",
        "\n",
        "    # Calculate accuracy and F1 score\n",
        "    f1 = f1_score(y_test, y_pred_classes, average='weighted')\n",
        "    mae = mean_absolute_error(y_test, y_pred_classes)\n",
        "    accuracy = accuracy_score(y_test, y_pred_classes)\n",
        "\n",
        "    print(f\"{stn_name} ANN MAE: {mae}\")\n",
        "    print(f\"{stn_name} ANN 정확도: {accuracy}\")\n",
        "    print(f\"{stn_name} ANN F1 점수: {f1}\")\n",
        "\n",
        "    return classifier, y_test, y_pred_classes"
      ],
      "metadata": {
        "id": "XnUhlf2QfwDh"
      },
      "execution_count": null,
      "outputs": []
    },
    {
      "cell_type": "code",
      "source": [
        "# 각 데이터프레임에 대한 ANN 모델 학습 및 평가\n",
        "#ANN_stn_A, f1_stn_A, mae_stn_A = train_and_evaluate_stn(stn_A, '_A_')\n",
        "#ANN_stn_B, f1_stn_B, mae_stn_B = train_and_evaluate_stn(stn_B, '_B_')\n",
        "#ANN_stn_C, f1_stn_C, mae_stn_C = train_and_evaluate_stn(stn_C, '_C_')\n",
        "#ANN_stn_D, f1_stn_D, mae_stn_D = train_and_evaluate_stn(stn_D, '_D_')\n",
        "#ANN_stn_E, f1_stn_E, mae_stn_E = train_and_evaluate_stn(stn_E, '_E_')\n",
        "\n",
        "# 각 데이터프레임에 대해 함수 호출 및 결과 저장\n",
        "results = {}\n",
        "ANN_A, y_test_A, y_pred_A = train_and_evaluate_stn(stn_A, 'A')\n",
        "results['A'] = (y_test_A, y_pred_A)\n",
        "ANN_B, y_test_B, y_pred_B = train_and_evaluate_stn(stn_B, 'B')\n",
        "results['B'] = (y_test_B, y_pred_B)\n",
        "ANN_C, y_test_C, y_pred_C = train_and_evaluate_stn(stn_C, 'C')\n",
        "results['C'] = (y_test_C, y_pred_C)\n",
        "ANN_D, y_test_D, y_pred_D = train_and_evaluate_stn(stn_D, 'D')\n",
        "results['D'] = (y_test_D, y_pred_D)\n",
        "ANN_E, y_test_E, y_pred_E = train_and_evaluate_stn(stn_E, 'E')\n",
        "results['E'] = (y_test_E, y_pred_E)"
      ],
      "metadata": {
        "colab": {
          "base_uri": "https://localhost:8080/"
        },
        "id": "cEJ3VVK9jN_s",
        "outputId": "c6e806e8-0e09-432d-d7c4-fc1aaa8f8279"
      },
      "execution_count": null,
      "outputs": [
        {
          "output_type": "stream",
          "name": "stdout",
          "text": [
            "Epoch 1/2\n",
            "199064/199064 [==============================] - 2487s 12ms/step - loss: 0.2941 - accuracy: 0.8869\n",
            "Epoch 2/2\n",
            "199064/199064 [==============================] - 2450s 12ms/step - loss: 0.1406 - accuracy: 0.9526\n",
            "7817/7817 [==============================] - 32s 4ms/step\n",
            "A ANN MAE: 0.05776565885956004\n",
            "A ANN 정확도: 0.9564278688917853\n",
            "A ANN F1 점수: 0.9738648475256357\n",
            "Epoch 1/2\n",
            "98225/98225 [==============================] - 1225s 12ms/step - loss: 0.6257 - accuracy: 0.7284\n",
            "Epoch 2/2\n",
            "98225/98225 [==============================] - 1223s 12ms/step - loss: 0.3834 - accuracy: 0.8497\n",
            "3926/3926 [==============================] - 15s 4ms/step\n",
            "B ANN MAE: 0.11803062028773198\n",
            "B ANN 정확도: 0.9269046121509836\n",
            "B ANN F1 점수: 0.9494142685916205\n",
            "Epoch 1/2\n",
            "50088/50088 [==============================] - 617s 12ms/step - loss: 0.3872 - accuracy: 0.8429\n",
            "Epoch 2/2\n",
            "50088/50088 [==============================] - 606s 12ms/step - loss: 0.1921 - accuracy: 0.9276\n",
            "1968/1968 [==============================] - 9s 4ms/step\n",
            "C ANN MAE: 0.07626943663537745\n",
            "C ANN 정확도: 0.9568145359825924\n",
            "C ANN F1 점수: 0.9738909688808953\n"
          ]
        }
      ]
    },
    {
      "cell_type": "code",
      "source": [
        "# 전체 결과 출력\n",
        "for key, (y_test, y_pred) in results.items():\n",
        "    accuracy = accuracy_score(y_test, y_pred)\n",
        "    f1 = f1_score(y_test, y_pred, average='weighted')\n",
        "    mae = mean_absolute_error(y_test, y_pred)\n",
        "    print(f\"{key} - Accuracy: {accuracy}, F1 Score: {f1}, MAE: {mae}\")"
      ],
      "metadata": {
        "colab": {
          "base_uri": "https://localhost:8080/"
        },
        "id": "TGY8RCQgkMia",
        "outputId": "d778e70c-ac6c-457a-b205-f212109440cd"
      },
      "execution_count": null,
      "outputs": [
        {
          "output_type": "stream",
          "name": "stdout",
          "text": [
            "A - Accuracy: 0.9564278688917853, F1 Score: 0.9738648475256357, MAE: 0.05776565885956004\n",
            "B - Accuracy: 0.9269046121509836, F1 Score: 0.9494142685916205, MAE: 0.11803062028773198\n",
            "C - Accuracy: 0.9568145359825924, F1 Score: 0.9738909688808953, MAE: 0.07626943663537745\n"
          ]
        }
      ]
    },
    {
      "cell_type": "code",
      "source": [
        "# 결과 데이터 생성\n",
        "results = {\n",
        "    'Station': ['A', 'B', 'C', 'D', 'E'],\n",
        "   #'MAE': [mae_stn_A, mae_stn_B, mae_stn_C, mae_stn_D, mae_stn_E],\n",
        "    # 'Accuracy': [f1_stn_A, f1_stn_B, f1_stn_C, f1_stn_D, f1_stn_E],\n",
        "    'F1-score': [f1_stn_A, f1_stn_B, f1_stn_C, f1_stn_D, f1_stn_E]\n",
        "}\n",
        "\n",
        "result_df = pd.DataFrame(results)\n",
        "\n",
        "# 데이터프레임 출력\n",
        "print(result_df)"
      ],
      "metadata": {
        "colab": {
          "base_uri": "https://localhost:8080/",
          "height": 222
        },
        "id": "g1g9dubktfH9",
        "outputId": "afb4f832-a8f4-470f-bafb-3683a41f06cd"
      },
      "execution_count": null,
      "outputs": [
        {
          "output_type": "error",
          "ename": "NameError",
          "evalue": "name 'mae_stn_A' is not defined",
          "traceback": [
            "\u001b[0;31m---------------------------------------------------------------------------\u001b[0m",
            "\u001b[0;31mNameError\u001b[0m                                 Traceback (most recent call last)",
            "\u001b[0;32m<ipython-input-26-1568d6d33ed9>\u001b[0m in \u001b[0;36m<cell line: 3>\u001b[0;34m()\u001b[0m\n\u001b[1;32m      2\u001b[0m results = {\n\u001b[1;32m      3\u001b[0m     \u001b[0;34m'Station'\u001b[0m\u001b[0;34m:\u001b[0m \u001b[0;34m[\u001b[0m\u001b[0;34m'A'\u001b[0m\u001b[0;34m,\u001b[0m \u001b[0;34m'B'\u001b[0m\u001b[0;34m,\u001b[0m \u001b[0;34m'C'\u001b[0m\u001b[0;34m]\u001b[0m\u001b[0;34m,\u001b[0m\u001b[0;34m\u001b[0m\u001b[0;34m\u001b[0m\u001b[0m\n\u001b[0;32m----> 4\u001b[0;31m     \u001b[0;34m'MAE'\u001b[0m\u001b[0;34m:\u001b[0m \u001b[0;34m[\u001b[0m\u001b[0mmae_stn_A\u001b[0m\u001b[0;34m,\u001b[0m \u001b[0mmae_stn_B\u001b[0m\u001b[0;34m,\u001b[0m \u001b[0mmae_stn_C\u001b[0m\u001b[0;34m]\u001b[0m\u001b[0;34m,\u001b[0m\u001b[0;34m\u001b[0m\u001b[0;34m\u001b[0m\u001b[0m\n\u001b[0m\u001b[1;32m      5\u001b[0m     \u001b[0;31m# 'Accuracy': [f1_stn_A, f1_stn_B, f1_stn_C],\u001b[0m\u001b[0;34m\u001b[0m\u001b[0;34m\u001b[0m\u001b[0m\n\u001b[1;32m      6\u001b[0m     \u001b[0;34m'F1-score'\u001b[0m\u001b[0;34m:\u001b[0m \u001b[0;34m[\u001b[0m\u001b[0mf1_stn_A\u001b[0m\u001b[0;34m,\u001b[0m \u001b[0mf1_stn_B\u001b[0m\u001b[0;34m,\u001b[0m \u001b[0mf1_stn_C\u001b[0m\u001b[0;34m]\u001b[0m\u001b[0;34m\u001b[0m\u001b[0;34m\u001b[0m\u001b[0m\n",
            "\u001b[0;31mNameError\u001b[0m: name 'mae_stn_A' is not defined"
          ]
        }
      ]
    },
    {
      "cell_type": "code",
      "source": [
        "# MAE 시각화\n",
        "plt.figure(figsize=(5, 3))\n",
        "stations = ['A', 'B', 'C', 'D', 'E']\n",
        "mae_values = [mae_stn_A, mae_stn_B, mae_stn_C]\n",
        "\n",
        "plt.bar(stations, mae_values)\n",
        "plt.xlabel('Station')\n",
        "plt.ylabel('MAE')\n",
        "plt.title('Mean Absolute Error (MAE) for Each Station')\n",
        "plt.show()"
      ],
      "metadata": {
        "id": "OfPKF282thQb"
      },
      "execution_count": null,
      "outputs": []
    },
    {
      "cell_type": "code",
      "source": [
        "# F1-score 시각화 (레이더 차트)\n",
        "plt.figure(figsize=(8, 8))\n",
        "f1_scores = [f1_stn_A, f1_stn_B, f1_stn_C, f1_stn_D, f1_stn_E]\n",
        "\n",
        "# 레이더 차트 그리기\n",
        "radar_data = pd.DataFrame({'Station': stations, 'F1-score': f1_scores})\n",
        "radar_data = radar_data.set_index('Station')\n",
        "\n",
        "ax = plt.subplot(projection='polar')\n",
        "ax.plot(np.linspace(0, 2 * np.pi, len(f1_scores)), f1_scores, linewidth=2)\n",
        "ax.fill(np.linspace(0, 2 * np.pi, len(f1_scores)), f1_scores, alpha=0.5)\n",
        "ax.set_thetagrids(np.degrees(np.linspace(0, 2 * np.pi, len(f1_scores))), labels=stations)\n",
        "ax.set_title('F1-score for Each Station')\n",
        "plt.show()"
      ],
      "metadata": {
        "id": "otiNmpdYtw_N"
      },
      "execution_count": null,
      "outputs": []
    },
    {
      "cell_type": "code",
      "source": [
        "# 예측 함수\n",
        "def predict_and_fill(stn_test, model):\n",
        "    X = stn_test.drop(labels=['year','month','day','time','minute', 'season', 'stn_id', 'group', 'datetime', 'class'], axis=1)\n",
        "    y_pred = model.predict(X)\n",
        "\n",
        "    # Assigning predicted classes back to season_df\n",
        "    stn_test['class'] = y_pred\n",
        "\n",
        "    return stn_test"
      ],
      "metadata": {
        "id": "BnrCbLMMkOqr"
      },
      "execution_count": null,
      "outputs": []
    },
    {
      "cell_type": "code",
      "source": [
        "# 각 데이터프레임에 대해 함수 호출\n",
        "pred_A = predict_and_fill(test_stn_A, ANN_A)\n",
        "pred_B = predict_and_fill(test_stn_B, ANN_B)\n",
        "pred_C = predict_and_fill(test_stn_C, ANN_C)\n",
        "pred_D = predict_and_fill(test_stn_D, ANN_D)\n",
        "pred_E = predict_and_fill(test_stn_E, ANN_E)"
      ],
      "metadata": {
        "colab": {
          "base_uri": "https://localhost:8080/"
        },
        "id": "vsQ2GlpIkTHs",
        "outputId": "19962172-ba41-47c9-e034-83b981560bd0"
      },
      "execution_count": null,
      "outputs": [
        {
          "output_type": "stream",
          "name": "stdout",
          "text": [
            "1643/1643 [==============================] - 9s 5ms/step\n",
            "  31/1643 [..............................] - ETA: 5s"
          ]
        },
        {
          "output_type": "stream",
          "name": "stderr",
          "text": [
            "<ipython-input-29-6235e2f76afa>:7: SettingWithCopyWarning: \n",
            "A value is trying to be set on a copy of a slice from a DataFrame.\n",
            "Try using .loc[row_indexer,col_indexer] = value instead\n",
            "\n",
            "See the caveats in the documentation: https://pandas.pydata.org/pandas-docs/stable/user_guide/indexing.html#returning-a-view-versus-a-copy\n",
            "  stn_test['class'] = y_pred\n"
          ]
        },
        {
          "output_type": "stream",
          "name": "stdout",
          "text": [
            "1643/1643 [==============================] - 6s 4ms/step\n",
            "  11/1643 [..............................] - ETA: 9s "
          ]
        },
        {
          "output_type": "stream",
          "name": "stderr",
          "text": [
            "<ipython-input-29-6235e2f76afa>:7: SettingWithCopyWarning: \n",
            "A value is trying to be set on a copy of a slice from a DataFrame.\n",
            "Try using .loc[row_indexer,col_indexer] = value instead\n",
            "\n",
            "See the caveats in the documentation: https://pandas.pydata.org/pandas-docs/stable/user_guide/indexing.html#returning-a-view-versus-a-copy\n",
            "  stn_test['class'] = y_pred\n"
          ]
        },
        {
          "output_type": "stream",
          "name": "stdout",
          "text": [
            "1643/1643 [==============================] - 7s 4ms/step\n"
          ]
        },
        {
          "output_type": "stream",
          "name": "stderr",
          "text": [
            "<ipython-input-29-6235e2f76afa>:7: SettingWithCopyWarning: \n",
            "A value is trying to be set on a copy of a slice from a DataFrame.\n",
            "Try using .loc[row_indexer,col_indexer] = value instead\n",
            "\n",
            "See the caveats in the documentation: https://pandas.pydata.org/pandas-docs/stable/user_guide/indexing.html#returning-a-view-versus-a-copy\n",
            "  stn_test['class'] = y_pred\n"
          ]
        }
      ]
    },
    {
      "cell_type": "code",
      "source": [
        "# 데이터프레임 합치기\n",
        "result_ANN = pd.concat([pred_A, pred_B, pred_C, pred_D, pred_E])"
      ],
      "metadata": {
        "id": "tbqGQnZLkTi1"
      },
      "execution_count": null,
      "outputs": []
    },
    {
      "cell_type": "code",
      "source": [
        "unique_values, counts = np.unique(y_pred_A, return_counts=True)\n",
        "print(dict(zip(unique_values, counts)))\n",
        "unique_values, counts = np.unique(y_pred_B, return_counts=True)\n",
        "print(dict(zip(unique_values, counts)))\n",
        "unique_values, counts = np.unique(y_pred_C, return_counts=True)\n",
        "print(dict(zip(unique_values, counts)))\n",
        "unique_values, counts = np.unique(y_pred_D, return_counts=True)\n",
        "print(dict(zip(unique_values, counts)))\n",
        "unique_values, counts = np.unique(y_pred_E, return_counts=True)\n",
        "print(dict(zip(unique_values, counts)))"
      ],
      "metadata": {
        "colab": {
          "base_uri": "https://localhost:8080/"
        },
        "id": "49GL9OLtdbvr",
        "outputId": "8703828d-afec-47f7-f4ae-a4461d9ba65c"
      },
      "execution_count": null,
      "outputs": [
        {
          "output_type": "stream",
          "name": "stdout",
          "text": [
            "{1: 999, 2: 2231, 3: 8204, 4: 238680}\n",
            "{1: 2030, 2: 3941, 3: 4498, 4: 115134}\n",
            "{1: 647, 2: 1038, 3: 1171, 4: 60105}\n"
          ]
        }
      ]
    },
    {
      "cell_type": "code",
      "source": [
        "result_ANN.to_csv('/content/drive/MyDrive/날씨마루 공모전/result_ANN.csv', index=True)"
      ],
      "metadata": {
        "id": "cUv6ad0huLhG"
      },
      "execution_count": null,
      "outputs": []
    }
  ]
}